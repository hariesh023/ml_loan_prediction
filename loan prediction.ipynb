{
 "cells": [
  {
   "cell_type": "code",
   "execution_count": 17,
   "id": "necessary-communication",
   "metadata": {},
   "outputs": [],
   "source": []
  },
  {
   "cell_type": "markdown",
   "id": "vanilla-imagination",
   "metadata": {},
   "source": [
    "#### BoxPlot"
   ]
  },
  {
   "cell_type": "code",
   "execution_count": 18,
   "id": "foreign-ridge",
   "metadata": {},
   "outputs": [
    {
     "data": {
      "text/html": [
       "<strong>png:</strong> 2"
      ],
      "text/latex": [
       "\\textbf{png:} 2"
      ],
      "text/markdown": [
       "**png:** 2"
      ],
      "text/plain": [
       "png \n",
       "  2 "
      ]
     },
     "metadata": {},
     "output_type": "display_data"
    }
   ],
   "source": [
    "tr <- read.csv('train.csv')\n",
    "png(file = \"boxplot.png\")\n",
    "boxplot(LoanAmount ~ Credit_History,data = tr,xlab = \"Credit History\", ylab = \"Loan Amount\", main='Loan Data')\n",
    "dev.off()"
   ]
  },
  {
   "cell_type": "markdown",
   "id": "proved-success",
   "metadata": {},
   "source": [
    "#### Histogram"
   ]
  },
  {
   "cell_type": "code",
   "execution_count": 20,
   "id": "muslim-excellence",
   "metadata": {},
   "outputs": [
    {
     "data": {
      "text/html": [
       "<strong>png:</strong> 2"
      ],
      "text/latex": [
       "\\textbf{png:} 2"
      ],
      "text/markdown": [
       "**png:** 2"
      ],
      "text/plain": [
       "png \n",
       "  2 "
      ]
     },
     "metadata": {},
     "output_type": "display_data"
    }
   ],
   "source": [
    "tr <- read.csv('train.csv')\n",
    "income <-  tr[,c('ApplicantIncome')]\n",
    "\n",
    "# Give the chart file a name.\n",
    "png(file = \"histogram.png\")\n",
    "\n",
    "# Create the histogram.\n",
    "hist(income,xlab = \"Income\",col = \"yellow\",border = \"blue\")\n",
    "dev.off()"
   ]
  },
  {
   "cell_type": "markdown",
   "id": "unlikely-feeling",
   "metadata": {},
   "source": [
    "#### Scatter Plot"
   ]
  },
  {
   "cell_type": "code",
   "execution_count": 24,
   "id": "needed-cambodia",
   "metadata": {},
   "outputs": [
    {
     "data": {
      "text/html": [
       "<strong>png:</strong> 2"
      ],
      "text/latex": [
       "\\textbf{png:} 2"
      ],
      "text/markdown": [
       "**png:** 2"
      ],
      "text/plain": [
       "png \n",
       "  2 "
      ]
     },
     "metadata": {},
     "output_type": "display_data"
    }
   ],
   "source": [
    "tr <- read.csv('train.csv')\n",
    "png(file = \"Scatter.png\")\n",
    "plot(tr$ApplicantIncome,tr$LoanAmount,\n",
    "     main=\"Relationship Between ApplicantIncome and LoanAmount\",\n",
    "     xlab=\"ApplicantIncome\",\n",
    "     ylab=\"LoanAmount\")\n",
    "dev.off()"
   ]
  },
  {
   "cell_type": "markdown",
   "id": "recreational-essay",
   "metadata": {},
   "source": [
    "#### Strip Chart"
   ]
  },
  {
   "cell_type": "code",
   "execution_count": 25,
   "id": "correct-departure",
   "metadata": {},
   "outputs": [
    {
     "data": {
      "text/html": [
       "<strong>png:</strong> 2"
      ],
      "text/latex": [
       "\\textbf{png:} 2"
      ],
      "text/markdown": [
       "**png:** 2"
      ],
      "text/plain": [
       "png \n",
       "  2 "
      ]
     },
     "metadata": {},
     "output_type": "display_data"
    }
   ],
   "source": [
    "tr <- read.csv('train.csv')\n",
    "set.seed(100)\n",
    "x = list(\"ApplicantIncome\" = tr$ApplicantIncome[0:50] , \"CoapplicantIncome\" = tr$CoapplicantIncome[0:50])\n",
    "png(\"Stripchart.png\")\n",
    "stripchart(x,\n",
    "           main = \"Comparision between ApplicantIncome and CoapplicantIncome\",\n",
    "           method = \"jitter\",\n",
    "           col = c(\"orange\",\"green\"),\n",
    "           pch = 1)\n",
    "dev.off()"
   ]
  },
  {
   "cell_type": "markdown",
   "id": "acknowledged-efficiency",
   "metadata": {},
   "source": [
    "### Data Pre-Processing"
   ]
  },
  {
   "cell_type": "markdown",
   "id": "numeric-mongolia",
   "metadata": {},
   "source": [
    "#### Missing Values"
   ]
  },
  {
   "cell_type": "code",
   "execution_count": 146,
   "id": "negative-genre",
   "metadata": {},
   "outputs": [],
   "source": [
    "tr <- read.csv('train.csv')\n",
    "# tr <- read.csv(file=\"train.csv\", na.strings=c(\"\", \"NA\"), header=TRUE)\n",
    "# colnames(tr) <- c(\"Loan_ID\",\"Gender\",\"Married\",\"Dependents\",\"Education\",\"Self_Employed\",\"ApplicantIncome\",\"CoapplicantIncome\",\"LoanAmount\",\"Loan_Amount_Term\",\"Credit_History\",\"Property_Area\",\"Loan_Status\")\n",
    "\n",
    "write.csv(sapply(tr,function(x)sum(is.na(x))),file=\"output.txt\")"
   ]
  },
  {
   "cell_type": "markdown",
   "id": "given-refrigerator",
   "metadata": {},
   "source": [
    "#### Deleting Missing Rows"
   ]
  },
  {
   "cell_type": "code",
   "execution_count": 147,
   "id": "exciting-humanitarian",
   "metadata": {},
   "outputs": [],
   "source": [
    "tr <- read.csv('train.csv')\n",
    "write.csv(tr[complete.cases(tr) , ],file=\"output_01.csv\")"
   ]
  },
  {
   "cell_type": "markdown",
   "id": "wrapped-backup",
   "metadata": {},
   "source": [
    "#### Change Column Value"
   ]
  },
  {
   "cell_type": "code",
   "execution_count": 148,
   "id": "homeless-casting",
   "metadata": {},
   "outputs": [],
   "source": [
    "tr <- read.csv('train.csv')\n",
    "library(plyr)\n",
    "tr$Dependents <- revalue(tr$Dependents, c(\"3+\"=\"3\"))\n",
    "write.csv(tr,file = \"output_02.csv\")"
   ]
  },
  {
   "cell_type": "markdown",
   "id": "hairy-logic",
   "metadata": {},
   "source": [
    "### Logistic Regression Model"
   ]
  },
  {
   "cell_type": "markdown",
   "id": "operational-schedule",
   "metadata": {},
   "source": [
    "#### Correlation"
   ]
  },
  {
   "cell_type": "code",
   "execution_count": 149,
   "id": "terminal-admission",
   "metadata": {},
   "outputs": [],
   "source": [
    "tr <- read.csv(\"loan.csv\")\n",
    "library(plyr)\n",
    "\n",
    "tr <- tr[complete.cases(tr),]\n",
    "v <- tr[,c(\"Dependents\",\"ApplicantIncome\",\"CoapplicantIncome\",\"LoanAmount\",\"Loan_Amount_Term\",\"Credit_History\")]\n",
    "\n",
    "\n",
    "#colnames(diabetes) <- c(\"Pregnancy\",\"Glucose\",\"BP\",\"Thick\",\"Insulin\",\"BMI\",\"Pedigree\",\"Age\",\"Isdiabetes\")\n",
    "\n",
    "#sapply(diabetes,function(x)sum(is.na(x)))\n",
    "\n",
    "#summary(diabetes)\n",
    "#str(diabetes)\n",
    "\n",
    "#table(diabetes$Isdiabetes)\n",
    "\n",
    "write.csv(cor(v[2:6]),file=\"output_06.csv\")"
   ]
  },
  {
   "cell_type": "markdown",
   "id": "hearing-mixer",
   "metadata": {},
   "source": [
    "#### Multi-collinearity"
   ]
  },
  {
   "cell_type": "code",
   "execution_count": 150,
   "id": "academic-consistency",
   "metadata": {},
   "outputs": [],
   "source": [
    "tr <- read.csv(\"loan.csv\")\n",
    "#colnames(tr) <- c(\"Loan_ID\",\"Gender\",\"Married\",\"Dependents\",\"Education\",\"Self_Employed\",\"ApplicantIncome\",\"CoapplicantIncome\",\"LoanAmount\",\"Loan_Amount_Term\",\"Credit_History\",\"Property_Area\",\"Loan_Status\")\n",
    "#tr<- tr[,3:10]\n",
    "\n",
    "model1 <- glm(Target ~.,data = tr, family = binomial(link=\"logit\"))\n",
    "\n",
    "library(car)\n",
    "write.csv(vif(model1),file = \"Output_07.csv\")\n"
   ]
  },
  {
   "cell_type": "markdown",
   "id": "superb-generic",
   "metadata": {},
   "source": [
    "#### AIC/BIC of a glm model."
   ]
  },
  {
   "cell_type": "code",
   "execution_count": 151,
   "id": "useful-arrival",
   "metadata": {},
   "outputs": [
    {
     "name": "stderr",
     "output_type": "stream",
     "text": [
      "Warning message:\n",
      "\"glm.fit: algorithm did not converge\"\n"
     ]
    }
   ],
   "source": [
    "#) AIC/BIC of a glm model.\n",
    "tr <- read.csv(\"train.csv\",stringsAsFactors=TRUE)\n",
    "library(plyr)\n",
    "tr$Dependents <- revalue(tr$Dependents, c(\"3+\"=\"3\"))\n",
    "colnames(tr) <- c(\"Loan_ID\",\"Gender\",\"Married\",\"Dependents\",\"Education\",\"Self_Employed\",\"ApplicantIncome\",\"CoapplicantIncome\",\"LoanAmount\",\"Loan_Amount_Term\",\"Credit_History\",\"Property_Area\",\"Loan_Status\")\n",
    "\n",
    "model1 <- glm(tr$Loan_Status ~.,data = tr, family = binomial(link=\"logit\"))\n",
    "\n",
    "a<-c(\"AIC :\",AIC(model1),\"\\nBIC :\",BIC(model1))\n",
    "x = c(a )\n",
    "write.csv(toString(x),file=\"output_08.csv\")"
   ]
  },
  {
   "cell_type": "markdown",
   "id": "maritime-ecology",
   "metadata": {},
   "source": [
    "#### Residuals"
   ]
  },
  {
   "cell_type": "code",
   "execution_count": 152,
   "id": "continuous-shareware",
   "metadata": {},
   "outputs": [
    {
     "name": "stderr",
     "output_type": "stream",
     "text": [
      "Warning message:\n",
      "\"glm.fit: algorithm did not converge\"\n"
     ]
    },
    {
     "data": {
      "text/html": [
       "<strong>png:</strong> 2"
      ],
      "text/latex": [
       "\\textbf{png:} 2"
      ],
      "text/markdown": [
       "**png:** 2"
      ],
      "text/plain": [
       "png \n",
       "  2 "
      ]
     },
     "metadata": {},
     "output_type": "display_data"
    }
   ],
   "source": [
    "library(ggplot2)\n",
    "library(lattice)\n",
    "library(caret)\n",
    "library(e1071)\n",
    "\n",
    "        tr <- read.csv(\"train.csv\",stringsAsFactors=TRUE)\n",
    "library(plyr)\n",
    "tr$Dependents <- revalue(tr$Dependents, c(\"3+\"=\"3\"))\n",
    "colnames(tr) <- c(\"Loan_ID\",\"Gender\",\"Married\",\"Dependents\",\"Education\",\"Self_Employed\",\"ApplicantIncome\",\"CoapplicantIncome\",\"LoanAmount\",\"Loan_Amount_Term\",\"Credit_History\",\"Property_Area\",\"Loan_Status\")\n",
    "tr <- tr[complete.cases(tr),]\n",
    "model1 <- glm(tr$Loan_Status ~.,data = tr, family = binomial(link=\"logit\"))\n",
    "\n",
    "library(dplyr)\n",
    "\n",
    "p <-(predict(model1,select=-tr$Loan_Status,type=\"response\"))\n",
    "p[p<=0.5] <- 0\n",
    "p[p>0.5] <- 1\n",
    "\n",
    "png(file=\"residuals.png\")\n",
    "\n",
    "plot(model1$residuals,xlab=\"Index\",ylab = \"Residuals\")\n",
    "\n",
    "dev.off()"
   ]
  },
  {
   "cell_type": "markdown",
   "id": "sustainable-water",
   "metadata": {},
   "source": [
    "### Decision Tree"
   ]
  },
  {
   "cell_type": "markdown",
   "id": "charitable-penny",
   "metadata": {},
   "source": [
    "#### Construct a decision tree"
   ]
  },
  {
   "cell_type": "code",
   "execution_count": 153,
   "id": "paperback-jewel",
   "metadata": {},
   "outputs": [],
   "source": [
    "library(caret)\n",
    "library(rpart)\n",
    "set.seed(9999)\n",
    "\n",
    "l <- read.csv(\"loan.csv\")\n",
    "split=0.80\n",
    "trainIndex <- createDataPartition(l$Target, p=split, list=FALSE)\n",
    "data_train <- l[ trainIndex,]\n",
    "data_test <- l[-trainIndex,]\n",
    "\n",
    "model <- rpart(Target~., data=data_train )\n",
    "\n",
    "x_test <- data_test[,1:10]\n",
    "\n",
    "y_test <- data_test[,11]\n",
    "\n",
    "p <- predict(model, x_test)\n",
    "p[p<=0.5] <- 0\n",
    "p[p>0.5] <- 1\n",
    "\n",
    "\n",
    "write.csv(p,file=\"output_12.csv\")"
   ]
  },
  {
   "cell_type": "markdown",
   "id": "aware-activity",
   "metadata": {},
   "source": [
    "#### Confusion Matrix - Decision Tree"
   ]
  },
  {
   "cell_type": "code",
   "execution_count": 154,
   "id": "becoming-slovakia",
   "metadata": {},
   "outputs": [],
   "source": [
    "library(caret)\n",
    "library(rpart)\n",
    "library(e1071)\n",
    "set.seed(9999)\n",
    "\n",
    "l <- read.csv(\"loan.csv\")\n",
    "split=0.80\n",
    "trainIndex <- createDataPartition(l$Target, p=split, list=FALSE)\n",
    "data_train <- l[ trainIndex,]\n",
    "data_test <- l[-trainIndex,]\n",
    "\n",
    "model <- rpart(Target~., data=data_train )\n",
    "\n",
    "x_test <- data_test[,1:10]\n",
    "\n",
    "y_test <- data_test[,11]\n",
    "\n",
    "p <- predict(model, x_test)\n",
    "p[p<=0.5] <- 0\n",
    "p[p>0.5] <- 1\n",
    "\n",
    "z<-confusionMatrix(factor(p,level=0:1), factor(y_test,level=0:1))\n",
    "#cat(\"Accuracy :\",format(confusionMatrix(p, y_test)$overall[1],digit=2))\n",
    "\n",
    "write.csv(confusionMatrix(factor(p,level=0:1), factor(y_test,level=0:1))$table,file=\"output_15.csv\")"
   ]
  },
  {
   "cell_type": "markdown",
   "id": "bored-harvard",
   "metadata": {},
   "source": [
    "#### Decision Tree"
   ]
  },
  {
   "cell_type": "code",
   "execution_count": 155,
   "id": "civilian-durham",
   "metadata": {},
   "outputs": [
    {
     "data": {
      "text/html": [
       "<strong>png:</strong> 2"
      ],
      "text/latex": [
       "\\textbf{png:} 2"
      ],
      "text/markdown": [
       "**png:** 2"
      ],
      "text/plain": [
       "png \n",
       "  2 "
      ]
     },
     "metadata": {},
     "output_type": "display_data"
    }
   ],
   "source": [
    "library(caret)\n",
    "library(rpart)\n",
    "png(file = \"output_13.png\")\n",
    "set.seed(9999)\n",
    "i <- read.csv(\"loan.csv\")\n",
    "split=0.80\n",
    "trainIndex <- createDataPartition(i$Target, p=split, list=FALSE)\n",
    "data_train <- i[ trainIndex,]\n",
    "data_test <- i[-trainIndex,]\n",
    "\n",
    "model <- rpart(data_train$Target~., data=data_train)\n",
    "\n",
    "plot(model)\n",
    "text(model, pretty=0)\n",
    "dev.off()\n"
   ]
  },
  {
   "cell_type": "markdown",
   "id": "surgical-segment",
   "metadata": {},
   "source": [
    "#### Atribute Evaluation"
   ]
  },
  {
   "cell_type": "code",
   "execution_count": 156,
   "id": "plastic-advance",
   "metadata": {},
   "outputs": [
    {
     "name": "stdout",
     "output_type": "stream",
     "text": [
      "Changing dependent variable to factor with levels: 0 1 \n"
     ]
    },
    {
     "name": "stderr",
     "output_type": "stream",
     "text": [
      "Warning message in attrEval(Target ~ ., data = i, estimator = \"InfGain\"):\n",
      "\"Possibly this is an error caused by regression formula and classification attribute estimator or vice versa.\"\n"
     ]
    }
   ],
   "source": [
    "library(CORElearn)\n",
    "library(caret)\n",
    "library(rpart)\n",
    "\n",
    "set.seed(9999)\n",
    "i <- read.csv(\"loan.csv\")\n",
    "split=0.80\n",
    "trainIndex <- createDataPartition(i$Target, p=split, list=FALSE)\n",
    "data_train <- i[ trainIndex,]\n",
    "data_test <- i[-trainIndex,]\n",
    "\n",
    "model <- rpart(data_train$Target~., data=data_train)\n",
    "IG.CORElearn <- attrEval(Target ~ ., data=i,  estimator = \"InfGain\")\n",
    "write.csv(IG.CORElearn,file = \"output_14.csv\")"
   ]
  },
  {
   "cell_type": "markdown",
   "id": "recreational-noise",
   "metadata": {},
   "source": [
    "#### Accuracy-Decision Tree"
   ]
  },
  {
   "cell_type": "code",
   "execution_count": 157,
   "id": "personalized-library",
   "metadata": {},
   "outputs": [],
   "source": [
    "library(caret)\n",
    "library(rpart)\n",
    "set.seed(9999)\n",
    "\n",
    "l <- read.csv(\"loan.csv\")\n",
    "split=0.80\n",
    "trainIndex <- createDataPartition(l$Target, p=split, list=FALSE)\n",
    "data_train <- l[ trainIndex,]\n",
    "data_test <- l[-trainIndex,]\n",
    "\n",
    "model <- rpart(Target~., data=data_train )\n",
    "\n",
    "x_test <- data_test[,1:10]\n",
    "\n",
    "y_test <- data_test[,11]\n",
    "\n",
    "p <- predict(model, x_test)\n",
    "p[p<=0.5] <- 0\n",
    "p[p>0.5] <- 1\n",
    "\n",
    "z<-confusionMatrix(factor(p,level=0:1), factor(y_test,level=0:1))\n",
    "#cat(\"Accuracy :\",format(confusionMatrix(p, y_test)$overall[1],digit=2))\n",
    "\n",
    "write.csv(z$overall[1],file=\"output_16.csv\")"
   ]
  },
  {
   "cell_type": "markdown",
   "id": "executed-combining",
   "metadata": {},
   "source": [
    "### Ramdom Forest"
   ]
  },
  {
   "cell_type": "markdown",
   "id": "universal-elimination",
   "metadata": {},
   "source": [
    "#### Random Forest"
   ]
  },
  {
   "cell_type": "code",
   "execution_count": 158,
   "id": "cardiac-designation",
   "metadata": {},
   "outputs": [
    {
     "name": "stderr",
     "output_type": "stream",
     "text": [
      "Warning message in randomForest.default(m, y, ...):\n",
      "\"The response has five or fewer unique values.  Are you sure you want to do regression?\"\n"
     ]
    },
    {
     "data": {
      "text/plain": [
       "\n",
       "Call:\n",
       " randomForest(formula = Target ~ ., data = data_train, importance = TRUE) \n",
       "               Type of random forest: regression\n",
       "                     Number of trees: 500\n",
       "No. of variables tried at each split: 3\n",
       "\n",
       "          Mean of squared residuals: 0.1425512\n",
       "                    % Var explained: 27.84"
      ]
     },
     "metadata": {},
     "output_type": "display_data"
    }
   ],
   "source": [
    "library(caret)\n",
    "library(rpart)\n",
    "library(randomForest)\n",
    "set.seed(9999)\n",
    "\n",
    "l <- read.csv(\"loan.csv\")\n",
    "split=0.80\n",
    "trainIndex <- createDataPartition(l$Target, p=split, list=FALSE)\n",
    "data_train <- l[ trainIndex,]\n",
    "data_test <- l[-trainIndex,]\n",
    "\n",
    "fit.forest2 <- randomForest(Target ~ ., data=data_train,importance=TRUE)\n",
    "fit.forest2\n",
    "write.csv(importance(fit.forest2,type = 2),file=\"output_17.csv\")"
   ]
  },
  {
   "cell_type": "markdown",
   "id": "valued-testimony",
   "metadata": {},
   "source": [
    "#### Confusion Matrix"
   ]
  },
  {
   "cell_type": "code",
   "execution_count": 159,
   "id": "swiss-sharp",
   "metadata": {},
   "outputs": [
    {
     "name": "stderr",
     "output_type": "stream",
     "text": [
      "Warning message in randomForest.default(m, y, ...):\n",
      "\"The response has five or fewer unique values.  Are you sure you want to do regression?\"\n"
     ]
    }
   ],
   "source": [
    "library(caret)\n",
    "library(rpart)\n",
    "library(randomForest)\n",
    "set.seed(9999)\n",
    "\n",
    "l <- read.csv(\"loan.csv\")\n",
    "split=0.80\n",
    "trainIndex <- createDataPartition(l$Target, p=split, list=FALSE)\n",
    "data_train <- l[ trainIndex,]\n",
    "data_test <- l[-trainIndex,]\n",
    "\n",
    "fit.forest2 <- randomForest(Target ~ ., data=data_train,importance=TRUE)\n",
    "\n",
    "forest.p <- predict(fit.forest2,data_train)\n",
    "forest.p[forest.p<=0.5] <- 0\n",
    "forest.p[forest.p>0.5] <- 1\n",
    "forest.pt <- table(data_train$Target , forest.p , dnn = c(\"Actual\",\"Predicted\"))\n",
    "\n",
    "write.csv(forest.pt,file=\"output_18.csv\")"
   ]
  },
  {
   "cell_type": "markdown",
   "id": "imported-bidder",
   "metadata": {},
   "source": [
    "#### Accuracy"
   ]
  },
  {
   "cell_type": "code",
   "execution_count": 160,
   "id": "floral-richmond",
   "metadata": {},
   "outputs": [
    {
     "name": "stderr",
     "output_type": "stream",
     "text": [
      "Warning message in randomForest.default(m, y, ...):\n",
      "\"The response has five or fewer unique values.  Are you sure you want to do regression?\"\n"
     ]
    }
   ],
   "source": [
    "library(caret)\n",
    "library(rpart)\n",
    "library(randomForest)\n",
    "set.seed(9999)\n",
    "\n",
    "l <- read.csv(\"loan.csv\")\n",
    "split=0.80\n",
    "trainIndex <- createDataPartition(l$Target, p=split, list=FALSE)\n",
    "data_train <- l[ trainIndex,]\n",
    "data_test <- l[-trainIndex,]\n",
    "\n",
    "fit.forest2 <- randomForest(Target ~ ., data=data_train,importance=TRUE)\n",
    "\n",
    "forest.p <- predict(fit.forest2,data_train)\n",
    "forest.p[forest.p<=0.5] <- 0\n",
    "forest.p[forest.p>0.5] <- 1\n",
    "forest.pt <- table(data_train$Target , forest.p , dnn = c(\"Actual\",\"Predicted\"))\n",
    "\n",
    "write.csv(confusionMatrix(forest.pt)$overall[1],file=\"output_19.csv\")"
   ]
  },
  {
   "cell_type": "code",
   "execution_count": null,
   "id": "appreciated-earthquake",
   "metadata": {},
   "outputs": [],
   "source": []
  }
 ],
 "metadata": {
  "kernelspec": {
   "display_name": "R",
   "language": "R",
   "name": "ir"
  },
  "language_info": {
   "codemirror_mode": "r",
   "file_extension": ".r",
   "mimetype": "text/x-r-source",
   "name": "R",
   "pygments_lexer": "r",
   "version": "4.0.3"
  }
 },
 "nbformat": 4,
 "nbformat_minor": 5
}
